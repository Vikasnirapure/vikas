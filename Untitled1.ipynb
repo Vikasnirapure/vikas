{
  "nbformat": 4,
  "nbformat_minor": 0,
  "metadata": {
    "colab": {
      "provenance": [],
      "include_colab_link": true
    },
    "kernelspec": {
      "name": "python3",
      "display_name": "Python 3"
    },
    "language_info": {
      "name": "python"
    }
  },
  "cells": [
    {
      "cell_type": "markdown",
      "metadata": {
        "id": "view-in-github",
        "colab_type": "text"
      },
      "source": [
        "<a href=\"https://colab.research.google.com/github/Vikasnirapure/vikas/blob/main/Untitled1.ipynb\" target=\"_parent\"><img src=\"https://colab.research.google.com/assets/colab-badge.svg\" alt=\"Open In Colab\"/></a>"
      ]
    },
    {
      "cell_type": "code",
      "execution_count": null,
      "metadata": {
        "colab": {
          "base_uri": "https://localhost:8080/"
        },
        "id": "EkdG_dBMrxtl",
        "outputId": "321d58d0-26d0-442b-a5c8-de4f26d621d7"
      },
      "outputs": [
        {
          "output_type": "stream",
          "name": "stdout",
          "text": [
            "{'ashish', 'aman', 'ashu'}\n",
            "{'ashish', 'aman', 'ashu'}\n",
            "3\n",
            "{'ashish', 'aman', 'ashu'}\n",
            "{5, 14, 15}\n",
            "{False, True}\n",
            "{False, 'aman', True, 'ashu', 5, 'ashish', 14, 15}\n",
            "<class 'set'>\n",
            "ashish\n",
            "aman\n",
            "ashu\n"
          ]
        }
      ],
      "source": [
        "#create a set -------\n",
        "aids = {\"ashu\", \"aman\",\"ashish\"}\n",
        "print (aids)\n",
        "#=======================================\n",
        "#duplicate file denied-------\n",
        "aids = {\"ashu\", \"aman\",\"ashish\",\"aman\", \"ashu\"}\n",
        "print(aids)\n",
        "#=======================================\n",
        "#use of length function-------\n",
        "print (len(aids))\n",
        "#Data type\n",
        "aids = {\"ashu\", \"aman\",\"ashish\"}\n",
        "rollno = {15,5,14}\n",
        "satyata = {True, False, False}\n",
        "print(aids)\n",
        "print(rollno)\n",
        "print(satyata)\n",
        "#==========================================\n",
        "#diffrent data type in a set---------------\n",
        "aids ={\"ashu\", \"aman\",\"ashish\",15,5,14, True,False,False}\n",
        "print(aids)\n",
        "#===========================================\n",
        "#type function-------------------------------\n",
        "print(type(aids))\n",
        "#===========================================\n",
        "#access set----------------\n",
        "aids = {\"ashu\", \"aman\",\"ashish\"}\n",
        "for x in aids:\n",
        "    print (x)"
      ]
    }
  ]
}